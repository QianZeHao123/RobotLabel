{
 "cells": [
  {
   "cell_type": "code",
   "execution_count": null,
   "id": "12c428ac",
   "metadata": {},
   "outputs": [],
   "source": [
    "import pandas as pd\n",
    "\n",
    "pretest_data_path = \"./data/pretest.xlsx\"\n",
    "pretest_data = pd.read_excel(pretest_data_path)\n",
    "\n",
    "pretest_data"
   ]
  },
  {
   "cell_type": "code",
   "execution_count": null,
   "id": "7ec1de61",
   "metadata": {},
   "outputs": [],
   "source": [
    "from dotenv import load_dotenv\n",
    "import os\n",
    "\n",
    "\n",
    "load_dotenv()\n",
    "openai_api_key = os.getenv(\"OPENROUTER_API_KEY\")\n",
    "openai_api_base = \"https://openrouter.ai/api/v1\""
   ]
  },
  {
   "cell_type": "code",
   "execution_count": null,
   "id": "58ecaca9",
   "metadata": {},
   "outputs": [],
   "source": [
    "llm_model = \"qwen/qwen3-235b-a22b:free\"\n",
    "# llm_model = \"qwen/qwen3-32b:free\"\n",
    "model_name = \"qwen\"\n",
    "# llm_model = \"deepseek/deepseek-v3-base:free\"\n",
    "# model_name = \"deepseek\"\n",
    "# llm_model = \"microsoft/phi-4-reasoning:free\"\n",
    "# model_name = 'phi4reason'\n",
    "# llm_model = \"nousresearch/deephermes-3-mistral-24b-preview:free\"\n",
    "# model_name = \"deephermes\""
   ]
  },
  {
   "cell_type": "code",
   "execution_count": null,
   "id": "af9f9353",
   "metadata": {},
   "outputs": [],
   "source": [
    "blame_prompt = \"\"\"\n",
    "你是一个数据标注师，\n",
    "【场景描述】\n",
    "本次标注的数据来自电商平台的客服咨询对话场景。在该场景中：\n",
    "用户发起咨询（Q）\n",
    "同时有AI客服（A0）和人工客服（A1）参与回答\n",
    "对话按时间顺序记录\n",
    "\n",
    "【数据格式】\n",
    "每条对话记录格式如下：\n",
    "Q：[用户消息内容]\n",
    "A0：[AI客服回复内容]\n",
    "A1：[人工客服回复内容]\n",
    "(按实际时间顺序排列，可能交替出现)\n",
    "\n",
    "【标注任务】\n",
    "请以第三方视角阅读对话记录，判断是否存在以下情况：\n",
    "\n",
    "工客服推责行为（blame）：\n",
    "判断标准：人工客服（A1）是否存在将责任推给AI客服（A0）的表述\n",
    "示例（存在推责行为）：\n",
    "\"刚才那是AI自动回复的，可能不准确\"\n",
    "\"AI客服之前的回答不用理会\"\n",
    "\"系统自动发送了错误信息\"\n",
    "\n",
    "请仅回答True或False，不要解释\n",
    "\"\"\"\n",
    "\n",
    "error_prompt = \"\"\"\n",
    "你是一个数据标注师，\n",
    "【场景描述】\n",
    "本次标注的数据来自电商平台的客服咨询对话场景。在该场景中：\n",
    "用户发起咨询（Q）\n",
    "同时有AI客服（A0）和人工客服（A1）参与回答\n",
    "对话按时间顺序记录\n",
    "\n",
    "【数据格式】\n",
    "每条对话记录格式如下：\n",
    "Q：[用户消息内容]\n",
    "A0：[AI客服回复内容]\n",
    "A1：[人工客服回复内容]\n",
    "(按实际时间顺序排列，可能交替出现)\n",
    "\n",
    "【标注任务】\n",
    "请以第三方视角阅读对话记录，判断是否存在以下情况：\n",
    "\n",
    "客服回答错误\n",
    "判断标准：客服（A0或A1）是否存在回答用户问题出错/不准确的情况，通常表现为\n",
    "1. 用户后续追问或质疑\n",
    "2. 客服后续纠正自己之前的回答\n",
    "3. 明显的事实性错误\n",
    "\n",
    "\n",
    "请仅回答True或False，不要解释\n",
    "\"\"\""
   ]
  },
  {
   "cell_type": "code",
   "execution_count": null,
   "id": "e559340a",
   "metadata": {},
   "outputs": [],
   "source": [
    "from langchain.chat_models import init_chat_model\n",
    "from langchain_core.messages import HumanMessage, SystemMessage\n",
    "import time\n",
    "\n",
    "model = init_chat_model(\n",
    "    model=llm_model,\n",
    "    model_provider=\"openai\",\n",
    "    openai_api_base=openai_api_base,\n",
    "    openai_api_key=openai_api_key,\n",
    ")\n"
   ]
  },
  {
   "cell_type": "code",
   "execution_count": null,
   "id": "c3d8e11e",
   "metadata": {},
   "outputs": [],
   "source": [
    "def invoke_with_retry(model, messages, max_retries, retry_delay):\n",
    "    for attempt in range(max_retries):\n",
    "        try:\n",
    "            return model.invoke(messages)\n",
    "        except Exception as e:\n",
    "            print(\n",
    "                f\"Attempt {attempt + 1} failed: {e}. Retrying in {retry_delay} seconds...\"\n",
    "            )\n",
    "            time.sleep(retry_delay)\n",
    "    raise Exception(\"Max retries exceeded.\")"
   ]
  },
  {
   "cell_type": "code",
   "execution_count": null,
   "id": "4e52792a",
   "metadata": {},
   "outputs": [],
   "source": [
    "max_retries = 20\n",
    "retry_delay = 5  # seconds\n",
    "\n",
    "conversations = pretest_data[\"conversations\"]\n",
    "results = []\n",
    "\n",
    "for conv in conversations:\n",
    "    blame_messages = [\n",
    "        SystemMessage(blame_prompt),\n",
    "        HumanMessage(conv),\n",
    "    ]\n",
    "    error_messages = [\n",
    "        SystemMessage(error_prompt),\n",
    "        HumanMessage(conv),\n",
    "    ]\n",
    "    \n",
    "    blame_res = invoke_with_retry(model, blame_messages, max_retries, retry_delay)\n",
    "    error_res = invoke_with_retry(model, error_messages, max_retries, retry_delay)\n",
    "    \n",
    "    blame_flag = 1 if blame_res.content == 'True' else 0\n",
    "    error_flag = 1 if error_res.content == 'True' else 0\n",
    "    print('----------------------------------')\n",
    "    # print(\"Original Conversation:\\n\", conv, sep='')\n",
    "    print(\"Blame:\", blame_flag)\n",
    "    print(\"Error:\", error_flag)\n",
    "\n",
    "    results.append({\n",
    "        \"Conversation\": conv,\n",
    "        \"Blame\": blame_flag,\n",
    "        \"Error\": error_flag\n",
    "    })\n",
    "\n",
    "df = pd.DataFrame(results)\n",
    "df"
   ]
  },
  {
   "cell_type": "code",
   "execution_count": null,
   "id": "60371157",
   "metadata": {},
   "outputs": [],
   "source": [
    "import datetime\n",
    "current_time = datetime.datetime.now().strftime(\"%Y_%m_%d_%H_%M\")\n",
    "df.to_csv(f'./out/llm_label_result_{current_time}_{model_name}.csv')"
   ]
  },
  {
   "cell_type": "code",
   "execution_count": null,
   "id": "f7ca566a",
   "metadata": {},
   "outputs": [],
   "source": []
  }
 ],
 "metadata": {
  "kernelspec": {
   "display_name": "robotlabel",
   "language": "python",
   "name": "python3"
  },
  "language_info": {
   "codemirror_mode": {
    "name": "ipython",
    "version": 3
   },
   "file_extension": ".py",
   "mimetype": "text/x-python",
   "name": "python",
   "nbconvert_exporter": "python",
   "pygments_lexer": "ipython3",
   "version": "3.11.12"
  }
 },
 "nbformat": 4,
 "nbformat_minor": 5
}
